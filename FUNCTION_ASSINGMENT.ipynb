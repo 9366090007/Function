{
  "nbformat": 4,
  "nbformat_minor": 0,
  "metadata": {
    "colab": {
      "provenance": []
    },
    "kernelspec": {
      "name": "python3",
      "display_name": "Python 3"
    },
    "language_info": {
      "name": "python"
    }
  },
  "cells": [
    {
      "cell_type": "markdown",
      "source": [
        "### **THEORY **"
      ],
      "metadata": {
        "id": "CSMTLzgMYc5Q"
      }
    },
    {
      "cell_type": "markdown",
      "source": [
        "1.  **What is the difference between a function and a method in Python?**\n",
        "    \n",
        "    - The function is a structure , reusable code utilised for carrying a specific task Whereas, method in pyhton is a  in-built functions in python like:- print,len() etc.\n",
        "\n",
        "2. ** Explain the concept of function arguments and parameters in Python**.\n",
        "    \n",
        "     - Arguments are the placeholders or variables define in the function Whereas, parameters are the actual function that is passed to the function.\n",
        "\n",
        "3.  What are the different ways to define and call a function in Python?\n",
        "    \n",
        "      - The different ways to define and call a function in python are:-\n",
        "\n",
        "      - 1. call with the positional arguments.\n",
        "      - 2. call with keyword arguments.\n",
        "      - 3. call with default arguments.\n",
        "\n",
        "4.  What is the purpose of the `return` statement in a Python function?\n",
        "\n",
        "     - Return statement is used inside a function which send back a result to the caller.\n",
        "\n",
        "5.  What are iterators in Python and how do they differ from iterables?\n",
        "\n",
        "     - Iterators is an object representing a data one by one Whereas, Iterables  is any python object that can return its elements one at a time with one go.\n",
        "\n",
        "6. . Explain the concept of generators in Python and how they are defined.\n",
        "\n",
        "    - Generators are a simple way to create iterators using functions and the yield keyword instead of returning values they are defined.\n",
        "\n",
        "7. What are the advantages of using generators over regular functions?\n",
        "\n",
        "    - The advantages of using generators over regular functions are :-  \n",
        "\n",
        "    - Efficient Memory\n",
        "    - Faster for Large Data\n",
        "    - Simple Code.\n",
        "\n",
        "8. What is a lambda function in Python and when is it typically used?\n",
        "\n",
        "    -   Lambda functions are small, anonymous functions defined using the lambda keyword. They are typically  used for creating small, throwaway functions without the need to formally define a function using def .\n",
        "\n",
        "9.  Explain the purpose and usage of the `map()` function in Python.\n",
        "\n",
        "    - The purpose of map() function are :-  \n",
        "\n",
        "    - to save  the time by avoiding writing loops.\n",
        "    - to make code shorter and cleaner.\n",
        "     - to work better with functions like lumbda.\n",
        "\n",
        "     The  usage of map() functions are:-\n",
        "      - function : A function that defines what to do with each items.\n",
        "      - iterable : A list, tuple, etc.\n",
        "\n",
        "10. What is the difference between `map()`, `reduce()`, and `filter()` functions in Python?\n",
        "\n",
        "   - The difference between `map()`, `reduce()`, and `filter()` functions in Python are :-   \n",
        "       - the purpose of map() function is to give functions to each item in an iterable (like a list, tuple,etc) Whereas reduce() function applies a cumulatively to the items of an iteable , from left to right,Whereas filter() function construct a new iterable from elements of an existing iterable for which a given function returns.\n",
        "\n",
        "\n",
        "11. Using pen & Paper write the internal mechanism for sum operation using  reduce function on this given  list:[47,11,42,13];\n",
        "\n",
        "   -"
      ],
      "metadata": {
        "id": "HJumj4nZYyw2"
      }
    },
    {
      "cell_type": "markdown",
      "source": [
        "## ***PRACTICAL***"
      ],
      "metadata": {
        "id": "rvEcCPx5ywl6"
      }
    },
    {
      "cell_type": "code",
      "execution_count": null,
      "metadata": {
        "id": "xY6RVuFFX7W_"
      },
      "outputs": [],
      "source": [
        "# 1. Write a Python function that takes a list of numbers as input and returns the sum of all even numbers in the list.\n",
        "\n",
        "def sum_even_numbers(numbers):\n",
        "    sum = 0\n",
        "    for i in numbers:\n",
        "        if i  % 2 == 0:\n",
        "            sum = sum + i\n",
        "    return sum"
      ]
    },
    {
      "cell_type": "code",
      "source": [
        "sum_even_numbers ([1,2,3,4,5,6,7,8,9,10])\n",
        "print(f\"the sum of all even numbers in {my_list} is {sum_even_numbers(my_list)}\")"
      ],
      "metadata": {
        "colab": {
          "base_uri": "https://localhost:8080/"
        },
        "id": "2EkwcVxg5JeQ",
        "outputId": "e0b9092b-89ec-4439-be59-95a2b0a802dd"
      },
      "execution_count": null,
      "outputs": [
        {
          "output_type": "stream",
          "name": "stdout",
          "text": [
            "the sum of all even numbers in [1, 2, 3, 4, 5, 6, 7, 8, 9, 10] is 30\n"
          ]
        }
      ]
    },
    {
      "cell_type": "code",
      "source": [
        "# 2. Create a Python function that accepts a string and returns the reverse of that string.\n",
        "\n",
        "def reverse_string(string):\n",
        "    return string[::-1]"
      ],
      "metadata": {
        "id": "5UiOzddU6swh"
      },
      "execution_count": null,
      "outputs": []
    },
    {
      "cell_type": "code",
      "source": [
        "reverse_string(\"Hello\")"
      ],
      "metadata": {
        "colab": {
          "base_uri": "https://localhost:8080/",
          "height": 35
        },
        "id": "81aNKwWW6lC5",
        "outputId": "98e038de-f18e-472e-81dc-a84d8b699204"
      },
      "execution_count": null,
      "outputs": [
        {
          "output_type": "execute_result",
          "data": {
            "text/plain": [
              "'olleH'"
            ],
            "application/vnd.google.colaboratory.intrinsic+json": {
              "type": "string"
            }
          },
          "metadata": {},
          "execution_count": 42
        }
      ]
    },
    {
      "cell_type": "code",
      "source": [
        "# 3.  Implement a Python function that takes a list of integers and returns a new list containing the squares of each numbers.\n",
        "\n",
        "def square_numbers(numbers):\n",
        "    squares = []\n",
        "    for i in numbers:\n",
        "        squares.append(i**2)\n",
        "    return squares"
      ],
      "metadata": {
        "id": "kGzH2MaO-YFq"
      },
      "execution_count": null,
      "outputs": []
    },
    {
      "cell_type": "code",
      "source": [
        "square_numbers([1,2,3,4,5])"
      ],
      "metadata": {
        "colab": {
          "base_uri": "https://localhost:8080/"
        },
        "id": "odrHgVCs-POC",
        "outputId": "2d4521e0-d1c0-4525-c74c-e064f72f9fe8"
      },
      "execution_count": null,
      "outputs": [
        {
          "output_type": "execute_result",
          "data": {
            "text/plain": [
              "[1, 4, 9, 16, 25]"
            ]
          },
          "metadata": {},
          "execution_count": 45
        }
      ]
    },
    {
      "cell_type": "code",
      "source": [
        "# 4.Write a Python function that checks if a given number is prime or not from 1 to 200.\n",
        "\n",
        "def is_prime(number):\n",
        "    if number < 2:\n",
        "        return False\n",
        "    for i in range(2, int(number**0.5) + 1):\n",
        "        if number % i == 0:\n",
        "            return False\n",
        "    return True"
      ],
      "metadata": {
        "id": "DsPa0kg9DEgO"
      },
      "execution_count": 1,
      "outputs": []
    },
    {
      "cell_type": "code",
      "source": [
        "is_prime(11)\n",
        "\n"
      ],
      "metadata": {
        "colab": {
          "base_uri": "https://localhost:8080/"
        },
        "id": "pgm-qCPbx7bl",
        "outputId": "3995fac8-0080-461c-c4b0-089ce1fc1b8d"
      },
      "execution_count": 9,
      "outputs": [
        {
          "output_type": "execute_result",
          "data": {
            "text/plain": [
              "True"
            ]
          },
          "metadata": {},
          "execution_count": 9
        }
      ]
    },
    {
      "cell_type": "code",
      "source": [
        "# 5. Create an iterator class in Python that generates the Fibonacci sequence up to a specified number of terms.\n",
        "\n",
        "def Fibonacci_sequence(n):\n",
        "    a, b = 0, 1\n",
        "    for i in range(n):\n",
        "        yield a\n",
        "        a, b = b, a + b\n",
        "\n"
      ],
      "metadata": {
        "id": "fG_gh8QTyOr7"
      },
      "execution_count": 15,
      "outputs": []
    },
    {
      "cell_type": "code",
      "source": [
        "for num in Fibonacci_sequence(10):\n",
        "  print(num)\n",
        "\n"
      ],
      "metadata": {
        "colab": {
          "base_uri": "https://localhost:8080/"
        },
        "id": "3p85hIcvy6e0",
        "outputId": "2d90cde5-70dd-4e67-abed-a5c4e0b68ca2"
      },
      "execution_count": 20,
      "outputs": [
        {
          "output_type": "stream",
          "name": "stdout",
          "text": [
            "0\n",
            "1\n",
            "1\n",
            "2\n",
            "3\n",
            "5\n",
            "8\n",
            "13\n",
            "21\n",
            "34\n"
          ]
        }
      ]
    },
    {
      "cell_type": "code",
      "source": [
        "# 6. Write a generator function in Python that yields the powers of 2 up to a given exponent.\n",
        "\n",
        "def powers_of_2(n):\n",
        "    for i in range(n+1):\n",
        "      yield 2 ** i\n",
        ""
      ],
      "metadata": {
        "id": "--lMYDAw103n"
      },
      "execution_count": 25,
      "outputs": []
    },
    {
      "cell_type": "code",
      "source": [
        "for i in powers_of_2(5):\n",
        "  print(i)"
      ],
      "metadata": {
        "colab": {
          "base_uri": "https://localhost:8080/"
        },
        "id": "hn4M-rUj1yO0",
        "outputId": "15eefcb7-94ca-454b-c082-4faa541fd0e6"
      },
      "execution_count": 26,
      "outputs": [
        {
          "output_type": "stream",
          "name": "stdout",
          "text": [
            "1\n",
            "2\n",
            "4\n",
            "8\n",
            "16\n",
            "32\n"
          ]
        }
      ]
    },
    {
      "cell_type": "code",
      "source": [
        "# 7. Implement a generator function that reads a file line by line and yields each line as a string.\n",
        "a = (\"hello world\", \"how are you\", \"i am fine\")\n",
        "def read_file(filename):\n",
        "  for line in open(filename):\n",
        "    yield line\n",
        "    pass"
      ],
      "metadata": {
        "id": "cGfkRDLR2a1U"
      },
      "execution_count": 56,
      "outputs": []
    },
    {
      "cell_type": "code",
      "source": [
        "# 8.  Use a lambda function in Python to sort a list of tuples based on the second element of each tuple.\n",
        "\n",
        "data = [('apple', 3), ('banana', 1), ('cherry', 2)]\n",
        "sorted_data = sorted(data, key=lambda x: x[1])\n",
        "print(sorted_data)"
      ],
      "metadata": {
        "colab": {
          "base_uri": "https://localhost:8080/"
        },
        "id": "X8cg781YywfU",
        "outputId": "35da88d3-1532-4fb1-b01e-f375a11510a3"
      },
      "execution_count": 57,
      "outputs": [
        {
          "output_type": "stream",
          "name": "stdout",
          "text": [
            "[('banana', 1), ('cherry', 2), ('apple', 3)]\n"
          ]
        }
      ]
    },
    {
      "cell_type": "code",
      "source": [
        "# 9. . Write a Python program that uses `map()` to convert a list of temperatures from Celsius to Fahrenheit.\n",
        "\n",
        "celsius_temp = [0, 10, 20, 30, 40]\n",
        "fahrenheit_temp = list(map(lambda x: (x * 9/5) + 32, celsius_temp))\n",
        "print(fahrenheit_temp)"
      ],
      "metadata": {
        "colab": {
          "base_uri": "https://localhost:8080/"
        },
        "id": "tAKe-hc8yMD0",
        "outputId": "6f5c5b5e-9cd9-4521-b20f-21416fcb4e0d"
      },
      "execution_count": 58,
      "outputs": [
        {
          "output_type": "stream",
          "name": "stdout",
          "text": [
            "[32.0, 50.0, 68.0, 86.0, 104.0]\n"
          ]
        }
      ]
    },
    {
      "cell_type": "code",
      "source": [
        "#10. . Create a Python program that uses `filter()` to remove all the vowels from a given string.\n",
        "\n",
        "def remove_vowels(string):\n",
        "    vowels = 'aeiouAEIOU'\n",
        "    return ''.join(filter(lambda x: x not in vowels, string))"
      ],
      "metadata": {
        "id": "9jWhYFbDyKiU"
      },
      "execution_count": 59,
      "outputs": []
    },
    {
      "cell_type": "code",
      "source": [
        "remove_vowels(\"arguments\")\n"
      ],
      "metadata": {
        "colab": {
          "base_uri": "https://localhost:8080/",
          "height": 35
        },
        "id": "6wRaCR13yIlz",
        "outputId": "8d7563d8-c89c-4b8c-ec63-fd6bb044a2a1"
      },
      "execution_count": 61,
      "outputs": [
        {
          "output_type": "execute_result",
          "data": {
            "text/plain": [
              "'rgmnts'"
            ],
            "application/vnd.google.colaboratory.intrinsic+json": {
              "type": "string"
            }
          },
          "metadata": {},
          "execution_count": 61
        }
      ]
    },
    {
      "cell_type": "code",
      "source": [
        "\n",
        ""
      ],
      "metadata": {
        "id": "Ae8VYExi8Qvq"
      },
      "execution_count": null,
      "outputs": []
    },
    {
      "cell_type": "code",
      "source": [],
      "metadata": {
        "id": "4FeP1OuRyFcE"
      },
      "execution_count": null,
      "outputs": []
    },
    {
      "cell_type": "code",
      "source": [],
      "metadata": {
        "id": "f9zUHVgByDnE"
      },
      "execution_count": null,
      "outputs": []
    },
    {
      "cell_type": "code",
      "source": [],
      "metadata": {
        "id": "yFuezrzBC9RV"
      },
      "execution_count": null,
      "outputs": []
    },
    {
      "cell_type": "code",
      "source": [],
      "metadata": {
        "id": "l4TJeIYb-MZz"
      },
      "execution_count": null,
      "outputs": []
    },
    {
      "cell_type": "code",
      "source": [],
      "metadata": {
        "id": "mmndGkD1-Ejz"
      },
      "execution_count": null,
      "outputs": []
    },
    {
      "cell_type": "code",
      "source": [],
      "metadata": {
        "id": "fJDttOMq-B36"
      },
      "execution_count": null,
      "outputs": []
    },
    {
      "cell_type": "code",
      "source": [],
      "metadata": {
        "id": "IuLqhQJE93OC"
      },
      "execution_count": null,
      "outputs": []
    },
    {
      "cell_type": "code",
      "source": [],
      "metadata": {
        "id": "tu-Pim016V-p"
      },
      "execution_count": null,
      "outputs": []
    },
    {
      "cell_type": "code",
      "source": [],
      "metadata": {
        "id": "W4RHRx8v5DKa"
      },
      "execution_count": null,
      "outputs": []
    },
    {
      "cell_type": "code",
      "source": [],
      "metadata": {
        "id": "FbNn7i1Fz5Vb"
      },
      "execution_count": null,
      "outputs": []
    },
    {
      "cell_type": "code",
      "source": [],
      "metadata": {
        "id": "tESC66bkzzrU"
      },
      "execution_count": null,
      "outputs": []
    },
    {
      "cell_type": "code",
      "source": [],
      "metadata": {
        "id": "TwdYP9KPzsLs"
      },
      "execution_count": null,
      "outputs": []
    },
    {
      "cell_type": "code",
      "source": [],
      "metadata": {
        "id": "QSMlXEhfYDrW"
      },
      "execution_count": null,
      "outputs": []
    },
    {
      "cell_type": "code",
      "source": [],
      "metadata": {
        "id": "711HXSvvYDuT"
      },
      "execution_count": null,
      "outputs": []
    },
    {
      "cell_type": "code",
      "source": [],
      "metadata": {
        "id": "qVol0YuUYDw6"
      },
      "execution_count": null,
      "outputs": []
    },
    {
      "cell_type": "code",
      "source": [],
      "metadata": {
        "id": "tc93juFBYDzy"
      },
      "execution_count": null,
      "outputs": []
    },
    {
      "cell_type": "code",
      "source": [],
      "metadata": {
        "id": "hdsTAXRqYD2Y"
      },
      "execution_count": null,
      "outputs": []
    },
    {
      "cell_type": "code",
      "source": [],
      "metadata": {
        "id": "9hsC_kfYYD5N"
      },
      "execution_count": null,
      "outputs": []
    },
    {
      "cell_type": "code",
      "source": [],
      "metadata": {
        "id": "PJYMKy1kYD8C"
      },
      "execution_count": null,
      "outputs": []
    },
    {
      "cell_type": "code",
      "source": [],
      "metadata": {
        "id": "gQYdUZZUYD-f"
      },
      "execution_count": null,
      "outputs": []
    },
    {
      "cell_type": "code",
      "source": [],
      "metadata": {
        "id": "7UmbAkIDYEA6"
      },
      "execution_count": null,
      "outputs": []
    },
    {
      "cell_type": "code",
      "source": [],
      "metadata": {
        "id": "2ORg-AaBYEEM"
      },
      "execution_count": null,
      "outputs": []
    },
    {
      "cell_type": "code",
      "source": [],
      "metadata": {
        "id": "c92kXJgBYEJv"
      },
      "execution_count": null,
      "outputs": []
    }
  ]
}